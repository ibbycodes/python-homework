{
 "cells": [
  {
   "cell_type": "code",
   "execution_count": 25,
   "id": "olympic-confidentiality",
   "metadata": {},
   "outputs": [],
   "source": [
    "#Importing libraries needed\n",
    "from pathlib import Path\n",
    "import csv\n",
    "\n",
    "#Importing the data set given in resources\n",
    "csvpath = Path('/Users/welcome/Desktop/python-homework/PyBank/budget_data.csv')"
   ]
  },
  {
   "cell_type": "code",
   "execution_count": 76,
   "id": "helpful-guide",
   "metadata": {},
   "outputs": [
    {
     "name": "stdout",
     "output_type": "stream",
     "text": [
      "Financial Analysis \n",
      "  ---------------------------- \n",
      " Total Months: 86 \n",
      " Total Profit/Loss: $38382578 \n",
      " Average Change: $-2315.12 \n",
      " Greatest Increase in Profits: Feb-2012 ($1170593) \n",
      " Greatest Decrease in Profits: Sep-2013 ($-1196225)\n"
     ]
    }
   ],
   "source": [
    "# Taking the data and placing it into my own dictionary called \"data\".\n",
    "data = {} \n",
    "with open(csvpath, 'r') as csvfile:\n",
    "    csvreader = csv.reader(csvfile, delimiter = ',')\n",
    "    csvheader = next(csvreader)\n",
    "    for row in csvreader:\n",
    "        data[row[0]] = row[1]\n",
    "        \n",
    "# Creating Variables.       \n",
    "ProfitsandLoses = 0 \n",
    "months = 0 \n",
    "average_change = [] \n",
    "total_profit_and_loses = []       \n",
    "max_value = 0\n",
    "max_date = \"\"\n",
    "min_value = 0\n",
    "min_date = \"\"\n",
    "total_change = 0\n",
    "#Iterating through the data to find total profit and loss and while going though the loop tallying the months and finally appending the total to my list.\n",
    "for date, x in data.items():\n",
    "    \n",
    "    total = int(x) \n",
    "    ProfitsandLoses += total\n",
    "    months += 1\n",
    "    total_profit_and_loses.append(total)\n",
    "  \n",
    "    \n",
    "#Iterate through data and store them into the total variable then compare each value and if the value is lower than the current store in min_value and for that value store the data \n",
    "# into min_date then compare the values again else if compare the same way to find the max value and its date\n",
    "for date, x in data.items():\n",
    "\n",
    "    total = int(x)\n",
    "    \n",
    "    if min_value > total:\n",
    "        min_value = total\n",
    "        min_date = date\n",
    "        \n",
    "    elif max_value < total:\n",
    "        max_value = total\n",
    "        max_date = date\n",
    "\n",
    "\n",
    "#Iterate through the total of the profit and loses and calculate the differnece month to month then add it to the average change list which  \n",
    "#MUST BE A LIST (as I painfully found out over many hours) as we will iterate through it later to find the average change. \n",
    "for i in range (len(total_profit_and_loses) - 1):\n",
    "    diff_in_month = total_profit_and_loses[i + 1] - total_profit_and_loses[i]\n",
    "    average_change.append(diff_in_month)\n",
    "    \n",
    "# Finding the total change \n",
    "for x in average_change:\n",
    "    total_change += x\n",
    "\n",
    "\n",
    "print(f\"Financial Analysis \\n  ---------------------------- \\n Total Months: {months} \\n Total Profit/Loss: ${ProfitsandLoses} \\n Average Change: ${round(total_change / len(average_change), 2)} \\n Greatest Increase in Profits: {max_date} (${max_value}) \\n Greatest Decrease in Profits: {min_date} (${min_value})\")\n",
    "with open (output_path, 'w') as file:\n",
    "    file.write(f\"Financial Analysis \\n  ---------------------------- \\n Total Months: {months} \\n Total Profit/Loss: ${ProfitsandLoses} \\n Average Change: ${round(total_change / len(average_change), 2)} \\n Greatest Increase in Profits: {max_date} (${max_value}) \\n Greatest Decrease in Profits: {min_date} (${min_value})\")\n",
    "    \n"
   ]
  },
  {
   "cell_type": "code",
   "execution_count": null,
   "id": "romance-medicine",
   "metadata": {},
   "outputs": [],
   "source": []
  }
 ],
 "metadata": {
  "kernelspec": {
   "display_name": "Python 3",
   "language": "python",
   "name": "python3"
  },
  "language_info": {
   "codemirror_mode": {
    "name": "ipython",
    "version": 3
   },
   "file_extension": ".py",
   "mimetype": "text/x-python",
   "name": "python",
   "nbconvert_exporter": "python",
   "pygments_lexer": "ipython3",
   "version": "3.8.3"
  }
 },
 "nbformat": 4,
 "nbformat_minor": 5
}
